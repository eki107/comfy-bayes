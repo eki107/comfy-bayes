{
 "cells": [
  {
   "cell_type": "markdown",
   "metadata": {},
   "source": [
    "# Basic Conversion A/B test"
   ]
  },
  {
   "cell_type": "code",
   "execution_count": 52,
   "metadata": {},
   "outputs": [],
   "source": [
    "import pandas as pd\n",
    "import numpy as np\n",
    "from comfy_bayes.bayes_conversion import ConversionTest"
   ]
  },
  {
   "cell_type": "code",
   "execution_count": 53,
   "metadata": {},
   "outputs": [],
   "source": [
    "# observations\n",
    "successes_a = 78\n",
    "total_a = 7266\n",
    "successes_b = 164\n",
    "total_b = 7689"
   ]
  },
  {
   "cell_type": "code",
   "execution_count": 54,
   "metadata": {},
   "outputs": [],
   "source": [
    "# make conversion test object by filling out successes and totals for both groups\n",
    "ab_test = ConversionTest(successes_a=successes_a,\n",
    "                         total_a=total_a,\n",
    "                         successes_b=successes_b,\n",
    "                         total_b=total_b)\n",
    "\n",
    "# evaluate test, to get all results\n",
    "ab_test.evaluate();"
   ]
  },
  {
   "cell_type": "code",
   "execution_count": 55,
   "metadata": {},
   "outputs": [
    {
     "data": {
      "text/plain": [
       "0.9999998892526563"
      ]
     },
     "execution_count": 55,
     "metadata": {},
     "output_type": "execute_result"
    }
   ],
   "source": [
    "# probability for b better than a\n",
    "ab_test.b_better_than_a_"
   ]
  },
  {
   "cell_type": "code",
   "execution_count": 56,
   "metadata": {},
   "outputs": [
    {
     "data": {
      "text/plain": [
       "0.010584081945083826"
      ]
     },
     "execution_count": 56,
     "metadata": {},
     "output_type": "execute_result"
    }
   ],
   "source": [
    "# expected uplift if we're right\n",
    "ab_test.uplift_"
   ]
  },
  {
   "cell_type": "code",
   "execution_count": 57,
   "metadata": {},
   "outputs": [
    {
     "data": {
      "text/plain": [
       "4.201840510117314e-11"
      ]
     },
     "execution_count": 57,
     "metadata": {},
     "output_type": "execute_result"
    }
   ],
   "source": [
    "# expected loss if we're wrong\n",
    "ab_test.loss_"
   ]
  },
  {
   "cell_type": "code",
   "execution_count": 58,
   "metadata": {},
   "outputs": [
    {
     "name": "stdout",
     "output_type": "stream",
     "text": [
      "probability: 99.999989%\n",
      "loss: 0.000000%\n",
      "uplift: 1.058408%\n"
     ]
    }
   ],
   "source": [
    "# pretty print\n",
    "print(f\"probability: {ab_test.b_better_than_a_:.6%}\")\n",
    "print(f\"loss: {ab_test.loss_:.6%}\") \n",
    "print(f\"uplift: {ab_test.uplift_:.6%}\")"
   ]
  },
  {
   "cell_type": "code",
   "execution_count": null,
   "metadata": {},
   "outputs": [],
   "source": []
  }
 ],
 "metadata": {
  "kernelspec": {
   "display_name": "Python 3",
   "language": "python",
   "name": "python3"
  },
  "language_info": {
   "codemirror_mode": {
    "name": "ipython",
    "version": 3
   },
   "file_extension": ".py",
   "mimetype": "text/x-python",
   "name": "python",
   "nbconvert_exporter": "python",
   "pygments_lexer": "ipython3",
   "version": "3.6.8"
  }
 },
 "nbformat": 4,
 "nbformat_minor": 2
}
